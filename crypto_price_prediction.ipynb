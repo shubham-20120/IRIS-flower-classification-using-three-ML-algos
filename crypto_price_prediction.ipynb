{
  "nbformat": 4,
  "nbformat_minor": 0,
  "metadata": {
    "colab": {
      "name": "crypto prediction.ipynb",
      "provenance": [],
      "collapsed_sections": [],
      "authorship_tag": "ABX9TyOqvqwaLC0HMPp3U9JUgIMQ",
      "include_colab_link": true
    },
    "kernelspec": {
      "name": "python3",
      "display_name": "Python 3"
    },
    "language_info": {
      "name": "python"
    },
    "accelerator": "GPU"
  },
  "cells": [
    {
      "cell_type": "markdown",
      "metadata": {
        "id": "view-in-github",
        "colab_type": "text"
      },
      "source": [
        "<a href=\"https://colab.research.google.com/github/shubham-20120/IRIS-flower-classification-using-three-ML-algos/blob/main/crypto_price_prediction.ipynb\" target=\"_parent\"><img src=\"https://colab.research.google.com/assets/colab-badge.svg\" alt=\"Open In Colab\"/></a>"
      ]
    },
    {
      "cell_type": "code",
      "metadata": {
        "id": "ESBc1EGw1QdA"
      },
      "source": [
        "import numpy as np\n",
        "import matplotlib.pyplot as plt\n",
        "import pandas as pd\n",
        "import seaborn as sns\n",
        "from sklearn.preprocessing import MinMaxScaler\n",
        "from keras.models import Sequential\n",
        "from keras.layers import Dense\n",
        "from keras.layers import LSTM\n",
        "from keras.layers import Dropout"
      ],
      "execution_count": 1,
      "outputs": []
    },
    {
      "cell_type": "code",
      "metadata": {
        "colab": {
          "base_uri": "https://localhost:8080/",
          "height": 206
        },
        "id": "YKwRMFqC9YWv",
        "outputId": "db29f49b-a05d-4b5f-a03b-a496620af6e6"
      },
      "source": [
        "dataset_train = pd.read_csv('/content/btc_dataset.csv')\n",
        "training_set = dataset_train.iloc[:, 2:3].values\n",
        "temp = [float(i.replace(',', '')) for i in training_set[:, 0]]\n",
        "training_set = [temp[i] for i in range(len(temp)-1, -1, -1)]\n",
        "pd.DataFrame(dataset_train).head()"
      ],
      "execution_count": 2,
      "outputs": [
        {
          "output_type": "execute_result",
          "data": {
            "text/html": [
              "<div>\n",
              "<style scoped>\n",
              "    .dataframe tbody tr th:only-of-type {\n",
              "        vertical-align: middle;\n",
              "    }\n",
              "\n",
              "    .dataframe tbody tr th {\n",
              "        vertical-align: top;\n",
              "    }\n",
              "\n",
              "    .dataframe thead th {\n",
              "        text-align: right;\n",
              "    }\n",
              "</style>\n",
              "<table border=\"1\" class=\"dataframe\">\n",
              "  <thead>\n",
              "    <tr style=\"text-align: right;\">\n",
              "      <th></th>\n",
              "      <th>Date</th>\n",
              "      <th>Price</th>\n",
              "      <th>Open</th>\n",
              "      <th>High</th>\n",
              "      <th>Low</th>\n",
              "      <th>Vol.</th>\n",
              "      <th>Change %</th>\n",
              "    </tr>\n",
              "  </thead>\n",
              "  <tbody>\n",
              "    <tr>\n",
              "      <th>0</th>\n",
              "      <td>Nov 16, 2021</td>\n",
              "      <td>60,536.3</td>\n",
              "      <td>63,605.1</td>\n",
              "      <td>63,605.6</td>\n",
              "      <td>60,476.1</td>\n",
              "      <td>75.95K</td>\n",
              "      <td>-4.81%</td>\n",
              "    </tr>\n",
              "    <tr>\n",
              "      <th>1</th>\n",
              "      <td>Nov 15, 2021</td>\n",
              "      <td>63,597.9</td>\n",
              "      <td>65,514.9</td>\n",
              "      <td>66,311.2</td>\n",
              "      <td>63,439.5</td>\n",
              "      <td>53.53K</td>\n",
              "      <td>-2.92%</td>\n",
              "    </tr>\n",
              "    <tr>\n",
              "      <th>2</th>\n",
              "      <td>Nov 14, 2021</td>\n",
              "      <td>65,508.2</td>\n",
              "      <td>64,397.2</td>\n",
              "      <td>65,508.2</td>\n",
              "      <td>63,608.3</td>\n",
              "      <td>33.98K</td>\n",
              "      <td>1.72%</td>\n",
              "    </tr>\n",
              "    <tr>\n",
              "      <th>3</th>\n",
              "      <td>Nov 13, 2021</td>\n",
              "      <td>64,398.6</td>\n",
              "      <td>64,133.3</td>\n",
              "      <td>64,906.0</td>\n",
              "      <td>63,381.4</td>\n",
              "      <td>30.34K</td>\n",
              "      <td>0.41%</td>\n",
              "    </tr>\n",
              "    <tr>\n",
              "      <th>4</th>\n",
              "      <td>Nov 12, 2021</td>\n",
              "      <td>64,134.5</td>\n",
              "      <td>64,782.6</td>\n",
              "      <td>65,449.7</td>\n",
              "      <td>62,309.7</td>\n",
              "      <td>63.27K</td>\n",
              "      <td>-1.04%</td>\n",
              "    </tr>\n",
              "  </tbody>\n",
              "</table>\n",
              "</div>"
            ],
            "text/plain": [
              "           Date     Price      Open      High       Low    Vol. Change %\n",
              "0  Nov 16, 2021  60,536.3  63,605.1  63,605.6  60,476.1  75.95K   -4.81%\n",
              "1  Nov 15, 2021  63,597.9  65,514.9  66,311.2  63,439.5  53.53K   -2.92%\n",
              "2  Nov 14, 2021  65,508.2  64,397.2  65,508.2  63,608.3  33.98K    1.72%\n",
              "3  Nov 13, 2021  64,398.6  64,133.3  64,906.0  63,381.4  30.34K    0.41%\n",
              "4  Nov 12, 2021  64,134.5  64,782.6  65,449.7  62,309.7  63.27K   -1.04%"
            ]
          },
          "metadata": {},
          "execution_count": 2
        }
      ]
    },
    {
      "cell_type": "code",
      "metadata": {
        "id": "jIS_0tKHFGcO"
      },
      "source": [
        "sc = MinMaxScaler(feature_range = (0, 1))\n",
        "training_set_scaled = sc.fit_transform(np.array(training_set).reshape(-1, 1))"
      ],
      "execution_count": 3,
      "outputs": []
    },
    {
      "cell_type": "code",
      "metadata": {
        "id": "yzVPnFJnFGXW"
      },
      "source": [
        "trainSize = 0.85\n",
        "training_set_scaled = np.array([training_set_scaled[i] for i in range(0, int(len(training_set_scaled)*trainSize))])\n",
        "testing_set_scaled = np.array([training_set_scaled[i] for i in range(int(len(training_set_scaled)*trainSize), len(training_set_scaled))])"
      ],
      "execution_count": 4,
      "outputs": []
    },
    {
      "cell_type": "code",
      "metadata": {
        "colab": {
          "base_uri": "https://localhost:8080/"
        },
        "id": "rz4NHsl9qS4K",
        "outputId": "09df5687-035c-4934-de28-fea035907931"
      },
      "source": [
        "len(training_set_scaled), len(testing_set_scaled), len(training_set)"
      ],
      "execution_count": 5,
      "outputs": [
        {
          "output_type": "execute_result",
          "data": {
            "text/plain": [
              "(3519, 528, 4140)"
            ]
          },
          "metadata": {},
          "execution_count": 5
        }
      ]
    },
    {
      "cell_type": "code",
      "metadata": {
        "id": "4TGdI7jhFaxV"
      },
      "source": [
        "# training\n",
        "X_train = []\n",
        "y_train = []\n",
        "for i in range(60, len(training_set_scaled)):\n",
        "    X_train.append(training_set_scaled[i-60:i, 0])\n",
        "    y_train.append(training_set_scaled[i, 0])\n",
        "X_train, y_train = np.array(X_train), np.array(y_train)\n",
        "\n",
        "X_train = np.reshape(X_train, (X_train.shape[0], X_train.shape[1], 1))\n",
        "\n",
        "# testing\n",
        "X_test = []\n",
        "y_test = []\n",
        "for i in range(60, len(testing_set_scaled)):\n",
        "    X_test.append(testing_set_scaled[i-60:i, 0])\n",
        "    y_test.append(testing_set_scaled[i, 0])\n",
        "X_test, y_test = np.array(X_test), np.array(y_test)\n",
        "\n",
        "X_test = np.reshape(X_test, (X_test.shape[0], X_test.shape[1], 1))"
      ],
      "execution_count": 12,
      "outputs": []
    },
    {
      "cell_type": "code",
      "metadata": {
        "id": "K_1vgzACFbO9",
        "colab": {
          "base_uri": "https://localhost:8080/"
        },
        "outputId": "05c9db1a-9aed-4261-8864-8d5f11db225e"
      },
      "source": [
        "regressor = Sequential()\n",
        "\n",
        "# 1\n",
        "regressor.add(LSTM(units = 50, return_sequences = True, input_shape = (X_train.shape[1], 1)))\n",
        "regressor.add(Dropout(0.2))\n",
        "\n",
        "# 2\n",
        "regressor.add(LSTM(units = 50, return_sequences = True))\n",
        "regressor.add(Dropout(0.2))\n",
        "\n",
        "# 3\n",
        "regressor.add(LSTM(units = 50, return_sequences = True))\n",
        "regressor.add(Dropout(0.2))\n",
        "\n",
        "# 4\n",
        "regressor.add(LSTM(units = 50))\n",
        "regressor.add(Dropout(0.2))\n",
        "\n",
        "# 5 - output layer \n",
        "regressor.add(Dense(units = 1))\n",
        "\n",
        "regressor.compile(optimizer = 'adam', loss = 'mean_squared_error')\n",
        "\n",
        "# training model\n",
        "regressor.fit(X_train, y_train, epochs = 100, batch_size = 32)"
      ],
      "execution_count": 7,
      "outputs": [
        {
          "output_type": "stream",
          "name": "stdout",
          "text": [
            "Epoch 1/100\n",
            "109/109 [==============================] - 18s 61ms/step - loss: 3.6440e-04\n",
            "Epoch 2/100\n",
            "109/109 [==============================] - 7s 61ms/step - loss: 1.6100e-04\n",
            "Epoch 3/100\n",
            "109/109 [==============================] - 7s 61ms/step - loss: 1.4647e-04\n",
            "Epoch 4/100\n",
            "109/109 [==============================] - 7s 62ms/step - loss: 1.1209e-04\n",
            "Epoch 5/100\n",
            "109/109 [==============================] - 7s 61ms/step - loss: 1.0576e-04\n",
            "Epoch 6/100\n",
            "109/109 [==============================] - 7s 61ms/step - loss: 9.8282e-05\n",
            "Epoch 7/100\n",
            "109/109 [==============================] - 7s 61ms/step - loss: 1.3928e-04\n",
            "Epoch 8/100\n",
            "109/109 [==============================] - 7s 61ms/step - loss: 9.6515e-05\n",
            "Epoch 9/100\n",
            "109/109 [==============================] - 7s 61ms/step - loss: 9.3226e-05\n",
            "Epoch 10/100\n",
            "109/109 [==============================] - 7s 61ms/step - loss: 7.5894e-05\n",
            "Epoch 11/100\n",
            "109/109 [==============================] - 7s 61ms/step - loss: 8.1833e-05\n",
            "Epoch 12/100\n",
            "109/109 [==============================] - 7s 61ms/step - loss: 8.8307e-05\n",
            "Epoch 13/100\n",
            "109/109 [==============================] - 7s 61ms/step - loss: 8.4990e-05\n",
            "Epoch 14/100\n",
            "109/109 [==============================] - 7s 61ms/step - loss: 7.8233e-05\n",
            "Epoch 15/100\n",
            "109/109 [==============================] - 7s 61ms/step - loss: 7.8417e-05\n",
            "Epoch 16/100\n",
            "109/109 [==============================] - 7s 61ms/step - loss: 9.0312e-05\n",
            "Epoch 17/100\n",
            "109/109 [==============================] - 7s 61ms/step - loss: 9.2700e-05\n",
            "Epoch 18/100\n",
            "109/109 [==============================] - 7s 61ms/step - loss: 7.2367e-05\n",
            "Epoch 19/100\n",
            "109/109 [==============================] - 7s 61ms/step - loss: 8.0471e-05\n",
            "Epoch 20/100\n",
            "109/109 [==============================] - 7s 61ms/step - loss: 7.4503e-05\n",
            "Epoch 21/100\n",
            "109/109 [==============================] - 7s 61ms/step - loss: 7.2413e-05\n",
            "Epoch 22/100\n",
            "109/109 [==============================] - 7s 61ms/step - loss: 7.0308e-05\n",
            "Epoch 23/100\n",
            "109/109 [==============================] - 7s 61ms/step - loss: 6.2063e-05\n",
            "Epoch 24/100\n",
            "109/109 [==============================] - 7s 61ms/step - loss: 7.0792e-05\n",
            "Epoch 25/100\n",
            "109/109 [==============================] - 7s 61ms/step - loss: 6.6991e-05\n",
            "Epoch 26/100\n",
            "109/109 [==============================] - 7s 61ms/step - loss: 5.8244e-05\n",
            "Epoch 27/100\n",
            "109/109 [==============================] - 7s 61ms/step - loss: 6.5511e-05\n",
            "Epoch 28/100\n",
            "109/109 [==============================] - 7s 61ms/step - loss: 7.3320e-05\n",
            "Epoch 29/100\n",
            "109/109 [==============================] - 7s 62ms/step - loss: 7.0656e-05\n",
            "Epoch 30/100\n",
            "109/109 [==============================] - 7s 62ms/step - loss: 6.3846e-05\n",
            "Epoch 31/100\n",
            "109/109 [==============================] - 7s 61ms/step - loss: 5.8083e-05\n",
            "Epoch 32/100\n",
            "109/109 [==============================] - 7s 62ms/step - loss: 6.7722e-05\n",
            "Epoch 33/100\n",
            "109/109 [==============================] - 7s 62ms/step - loss: 6.5066e-05\n",
            "Epoch 34/100\n",
            "109/109 [==============================] - 7s 61ms/step - loss: 5.9254e-05\n",
            "Epoch 35/100\n",
            "109/109 [==============================] - 7s 61ms/step - loss: 5.3407e-05\n",
            "Epoch 36/100\n",
            "109/109 [==============================] - 7s 61ms/step - loss: 6.5269e-05\n",
            "Epoch 37/100\n",
            "109/109 [==============================] - 7s 61ms/step - loss: 5.5433e-05\n",
            "Epoch 38/100\n",
            "109/109 [==============================] - 7s 61ms/step - loss: 6.0058e-05\n",
            "Epoch 39/100\n",
            "109/109 [==============================] - 7s 61ms/step - loss: 6.3555e-05\n",
            "Epoch 40/100\n",
            "109/109 [==============================] - 7s 61ms/step - loss: 4.9807e-05\n",
            "Epoch 41/100\n",
            "109/109 [==============================] - 7s 61ms/step - loss: 5.3023e-05\n",
            "Epoch 42/100\n",
            "109/109 [==============================] - 7s 61ms/step - loss: 5.1074e-05\n",
            "Epoch 43/100\n",
            "109/109 [==============================] - 7s 61ms/step - loss: 6.3807e-05\n",
            "Epoch 44/100\n",
            "109/109 [==============================] - 7s 61ms/step - loss: 6.3240e-05\n",
            "Epoch 45/100\n",
            "109/109 [==============================] - 7s 61ms/step - loss: 5.8024e-05\n",
            "Epoch 46/100\n",
            "109/109 [==============================] - 7s 61ms/step - loss: 5.6483e-05\n",
            "Epoch 47/100\n",
            "109/109 [==============================] - 7s 61ms/step - loss: 4.9572e-05\n",
            "Epoch 48/100\n",
            "109/109 [==============================] - 7s 61ms/step - loss: 5.9215e-05\n",
            "Epoch 49/100\n",
            "109/109 [==============================] - 7s 62ms/step - loss: 5.6000e-05\n",
            "Epoch 50/100\n",
            "109/109 [==============================] - 7s 62ms/step - loss: 4.8470e-05\n",
            "Epoch 51/100\n",
            "109/109 [==============================] - 7s 61ms/step - loss: 5.6934e-05\n",
            "Epoch 52/100\n",
            "109/109 [==============================] - 7s 61ms/step - loss: 5.2754e-05\n",
            "Epoch 53/100\n",
            "109/109 [==============================] - 7s 61ms/step - loss: 6.3361e-05\n",
            "Epoch 54/100\n",
            "109/109 [==============================] - 7s 62ms/step - loss: 5.6957e-05\n",
            "Epoch 55/100\n",
            "109/109 [==============================] - 7s 61ms/step - loss: 5.3956e-05\n",
            "Epoch 56/100\n",
            "109/109 [==============================] - 7s 61ms/step - loss: 5.8466e-05\n",
            "Epoch 57/100\n",
            "109/109 [==============================] - 7s 61ms/step - loss: 6.3837e-05\n",
            "Epoch 58/100\n",
            "109/109 [==============================] - 7s 61ms/step - loss: 5.0961e-05\n",
            "Epoch 59/100\n",
            "109/109 [==============================] - 7s 61ms/step - loss: 4.6243e-05\n",
            "Epoch 60/100\n",
            "109/109 [==============================] - 7s 61ms/step - loss: 5.6724e-05\n",
            "Epoch 61/100\n",
            "109/109 [==============================] - 7s 62ms/step - loss: 5.3846e-05\n",
            "Epoch 62/100\n",
            "109/109 [==============================] - 7s 62ms/step - loss: 5.9813e-05\n",
            "Epoch 63/100\n",
            "109/109 [==============================] - 7s 61ms/step - loss: 4.6781e-05\n",
            "Epoch 64/100\n",
            "109/109 [==============================] - 7s 61ms/step - loss: 5.1299e-05\n",
            "Epoch 65/100\n",
            "109/109 [==============================] - 7s 61ms/step - loss: 5.1386e-05\n",
            "Epoch 66/100\n",
            "109/109 [==============================] - 7s 61ms/step - loss: 5.1476e-05\n",
            "Epoch 67/100\n",
            "109/109 [==============================] - 7s 61ms/step - loss: 5.0718e-05\n",
            "Epoch 68/100\n",
            "109/109 [==============================] - 7s 61ms/step - loss: 4.5578e-05\n",
            "Epoch 69/100\n",
            "109/109 [==============================] - 7s 61ms/step - loss: 4.6255e-05\n",
            "Epoch 70/100\n",
            "109/109 [==============================] - 7s 61ms/step - loss: 4.9440e-05\n",
            "Epoch 71/100\n",
            "109/109 [==============================] - 7s 61ms/step - loss: 4.8353e-05\n",
            "Epoch 72/100\n",
            "109/109 [==============================] - 7s 61ms/step - loss: 4.7567e-05\n",
            "Epoch 73/100\n",
            "109/109 [==============================] - 7s 61ms/step - loss: 4.6722e-05\n",
            "Epoch 74/100\n",
            "109/109 [==============================] - 7s 61ms/step - loss: 5.4211e-05\n",
            "Epoch 75/100\n",
            "109/109 [==============================] - 7s 61ms/step - loss: 5.0982e-05\n",
            "Epoch 76/100\n",
            "109/109 [==============================] - 7s 61ms/step - loss: 5.0100e-05\n",
            "Epoch 77/100\n",
            "109/109 [==============================] - 7s 62ms/step - loss: 4.3714e-05\n",
            "Epoch 78/100\n",
            "109/109 [==============================] - 7s 61ms/step - loss: 4.8357e-05\n",
            "Epoch 79/100\n",
            "109/109 [==============================] - 7s 61ms/step - loss: 4.7740e-05\n",
            "Epoch 80/100\n",
            "109/109 [==============================] - 7s 61ms/step - loss: 4.7872e-05\n",
            "Epoch 81/100\n",
            "109/109 [==============================] - 7s 61ms/step - loss: 5.1094e-05\n",
            "Epoch 82/100\n",
            "109/109 [==============================] - 7s 61ms/step - loss: 4.8300e-05\n",
            "Epoch 83/100\n",
            "109/109 [==============================] - 7s 61ms/step - loss: 4.9807e-05\n",
            "Epoch 84/100\n",
            "109/109 [==============================] - 7s 61ms/step - loss: 4.6192e-05\n",
            "Epoch 85/100\n",
            "109/109 [==============================] - 7s 61ms/step - loss: 4.3273e-05\n",
            "Epoch 86/100\n",
            "109/109 [==============================] - 7s 61ms/step - loss: 4.5832e-05\n",
            "Epoch 87/100\n",
            "109/109 [==============================] - 7s 61ms/step - loss: 4.3836e-05\n",
            "Epoch 88/100\n",
            "109/109 [==============================] - 7s 61ms/step - loss: 4.7649e-05\n",
            "Epoch 89/100\n",
            "109/109 [==============================] - 7s 61ms/step - loss: 4.3549e-05\n",
            "Epoch 90/100\n",
            "109/109 [==============================] - 7s 61ms/step - loss: 4.5079e-05\n",
            "Epoch 91/100\n",
            "109/109 [==============================] - 7s 61ms/step - loss: 4.3956e-05\n",
            "Epoch 92/100\n",
            "109/109 [==============================] - 7s 61ms/step - loss: 4.7757e-05\n",
            "Epoch 93/100\n",
            "109/109 [==============================] - 7s 61ms/step - loss: 4.5753e-05\n",
            "Epoch 94/100\n",
            "109/109 [==============================] - 7s 61ms/step - loss: 4.7722e-05\n",
            "Epoch 95/100\n",
            "109/109 [==============================] - 7s 61ms/step - loss: 4.3885e-05\n",
            "Epoch 96/100\n",
            "109/109 [==============================] - 7s 61ms/step - loss: 4.6779e-05\n",
            "Epoch 97/100\n",
            "109/109 [==============================] - 7s 61ms/step - loss: 4.2829e-05\n",
            "Epoch 98/100\n",
            "109/109 [==============================] - 7s 61ms/step - loss: 5.5023e-05\n",
            "Epoch 99/100\n",
            "109/109 [==============================] - 7s 61ms/step - loss: 4.7041e-05\n",
            "Epoch 100/100\n",
            "109/109 [==============================] - 7s 61ms/step - loss: 3.9494e-05\n"
          ]
        },
        {
          "output_type": "execute_result",
          "data": {
            "text/plain": [
              "<keras.callbacks.History at 0x7f4ecb18f050>"
            ]
          },
          "metadata": {},
          "execution_count": 7
        }
      ]
    },
    {
      "cell_type": "code",
      "metadata": {
        "id": "VIAf_oT3AYkb"
      },
      "source": [
        "pred = sc.inverse_transform(regressor.predict(X_test))"
      ],
      "execution_count": 13,
      "outputs": []
    },
    {
      "cell_type": "code",
      "metadata": {
        "colab": {
          "base_uri": "https://localhost:8080/",
          "height": 339
        },
        "id": "6cK1l9jtATJF",
        "outputId": "342383c7-a1c2-42c4-970f-10074f8c72f2"
      },
      "source": [
        "# predicting price of test dataset\n",
        "plt.figure(figsize=(8, 5))\n",
        "plt.plot(sc.inverse_transform(y_test.reshape(-1, 1)), c='b') # actual price\n",
        "plt.plot(pred, c='r') # predicted price"
      ],
      "execution_count": 16,
      "outputs": [
        {
          "output_type": "execute_result",
          "data": {
            "text/plain": [
              "[<matplotlib.lines.Line2D at 0x7f4ec74bef50>]"
            ]
          },
          "metadata": {},
          "execution_count": 16
        },
        {
          "output_type": "display_data",
          "data": {
            "image/png": "[encoded data removed]",
            "text/plain": [
              "<Figure size 576x360 with 1 Axes>"
            ]
          },
          "metadata": {
            "needs_background": "light"
          }
        }
      ]
    }
  ]
}